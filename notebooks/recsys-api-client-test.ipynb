{
 "cells": [
  {
   "cell_type": "code",
   "execution_count": 1,
   "id": "94f881df-4e34-4baa-bb19-bd38a2542192",
   "metadata": {
    "tags": []
   },
   "outputs": [],
   "source": [
    "%load_ext autoreload\n",
    "%autoreload 2"
   ]
  },
  {
   "cell_type": "code",
   "execution_count": 1,
   "id": "9b8ef663-1637-42b4-b314-2b310d5f49c4",
   "metadata": {
    "tags": []
   },
   "outputs": [],
   "source": [
    "REC_SYS_CLIENT_LIB_PATH = '../'\n",
    "HOST                    = 'http://nonosoft.ddns.net:8000',\n",
    "AUTORIZATION_TOKEN      = 'e3ff025094fe0ee474501bbeda0a2a44e80230c1'\n",
    "SIMILARITY_MATRIX_IDS   = [\n",
    "    'knn_user_based-user-to-user',\n",
    "    'knn_user_based-item-to-item',\n",
    "    'knn_item_based-user-to-user',\n",
    "    'knn_item_based-item-to-item'\n",
    "]"
   ]
  },
  {
   "cell_type": "code",
   "execution_count": 2,
   "id": "f8259342-bd48-49ce-a235-d7febaeabe33",
   "metadata": {
    "tags": []
   },
   "outputs": [],
   "source": [
    "import sys\n",
    "sys.path.append(f'{REC_SYS_CLIENT_LIB_PATH}/src')\n",
    "\n",
    "import numpy as np\n",
    "import pandas as pd\n",
    "\n",
    "from recsys.api import RecSysApi"
   ]
  },
  {
   "cell_type": "code",
   "execution_count": 3,
   "id": "79655577-629a-4f96-83ae-dd88a019cad5",
   "metadata": {
    "tags": []
   },
   "outputs": [],
   "source": [
    "api = RecSysApi(host=HOST, token=AUTORIZATION_TOKEN)"
   ]
  },
  {
   "cell_type": "code",
   "execution_count": 4,
   "id": "6a0c3720-5e6d-4e33-81c7-e22f79077d57",
   "metadata": {
    "tags": []
   },
   "outputs": [
    {
     "data": {
      "text/plain": [
       "[{\n",
       "     \"status\": 200,\n",
       "     \"body\": {\n",
       "         \"count\": 1,\n",
       "         \"next\": null,\n",
       "         \"previous\": null,\n",
       "         \"results\": [\n",
       "             {\n",
       "                 \"id\": 61,\n",
       "                 \"name\": \"knn_user_based-user-to-user\",\n",
       "                 \"type\": 1,\n",
       "                 \"description\": \"knn_user_based-user-to-user\",\n",
       "                 \"version\": 12\n",
       "             }\n",
       "         ]\n",
       "     }\n",
       " },\n",
       " {\n",
       "     \"status\": 200,\n",
       "     \"body\": {\n",
       "         \"count\": 1,\n",
       "         \"next\": null,\n",
       "         \"previous\": null,\n",
       "         \"results\": [\n",
       "             {\n",
       "                 \"id\": 62,\n",
       "                 \"name\": \"knn_user_based-item-to-item\",\n",
       "                 \"type\": 2,\n",
       "                 \"description\": \"knn_user_based-item-to-item\",\n",
       "                 \"version\": 12\n",
       "             }\n",
       "         ]\n",
       "     }\n",
       " },\n",
       " {\n",
       "     \"status\": 200,\n",
       "     \"body\": {\n",
       "         \"count\": 1,\n",
       "         \"next\": null,\n",
       "         \"previous\": null,\n",
       "         \"results\": [\n",
       "             {\n",
       "                 \"id\": 59,\n",
       "                 \"name\": \"knn_item_based-user-to-user\",\n",
       "                 \"type\": 1,\n",
       "                 \"description\": \"knn_item_based-user-to-user\",\n",
       "                 \"version\": 12\n",
       "             }\n",
       "         ]\n",
       "     }\n",
       " },\n",
       " {\n",
       "     \"status\": 200,\n",
       "     \"body\": {\n",
       "         \"count\": 1,\n",
       "         \"next\": null,\n",
       "         \"previous\": null,\n",
       "         \"results\": [\n",
       "             {\n",
       "                 \"id\": 60,\n",
       "                 \"name\": \"knn_item_based-item-to-item\",\n",
       "                 \"type\": 2,\n",
       "                 \"description\": \"knn_item_based-item-to-item\",\n",
       "                 \"version\": 12\n",
       "             }\n",
       "         ]\n",
       "     }\n",
       " }]"
      ]
     },
     "execution_count": 4,
     "metadata": {},
     "output_type": "execute_result"
    }
   ],
   "source": [
    "[api.similarity_matrix(name=id) for id in SIMILARITY_MATRIX_IDS]"
   ]
  },
  {
   "cell_type": "code",
   "execution_count": null,
   "id": "71ab9d04-1084-40f8-96aa-d6fdebdde86b",
   "metadata": {
    "tags": []
   },
   "outputs": [],
   "source": [
    "\n",
    "\n",
    "api.similarity_cells(matrix='61', limit=1_000_000_000)"
   ]
  },
  {
   "cell_type": "code",
   "execution_count": 6,
   "id": "48bb8a96-3495-4cf7-b399-943f984e39e4",
   "metadata": {},
   "outputs": [
    {
     "data": {
      "text/plain": [
       "<bound method RecSysApi.interactions of <recsys.api.recsys.RecSysApi object at 0x7fab8455ce20>>"
      ]
     },
     "execution_count": 6,
     "metadata": {},
     "output_type": "execute_result"
    }
   ],
   "source": [
    "api.interactions"
   ]
  },
  {
   "cell_type": "code",
   "execution_count": 8,
   "id": "f6d03dd8-3785-4d65-874f-777c7a7c0f3c",
   "metadata": {
    "tags": []
   },
   "outputs": [
    {
     "data": {
      "text/plain": [
       "{\n",
       "    \"status\": 200,\n",
       "    \"body\": {\n",
       "        \"count\": 36598,\n",
       "        \"next\": \"http://nonosoft.ddns.net:8000/api/interactions/?item=&limit=10&offset=10&user=\",\n",
       "        \"previous\": null,\n",
       "        \"results\": [\n",
       "            {\n",
       "                \"user\": 2,\n",
       "                \"item\": \"http://nonosoft.ddns.net:8000/api/items/318/\",\n",
       "                \"suitable_to_train\": true,\n",
       "                \"rating\": 3.0,\n",
       "                \"created_at\": \"2023-09-12T00:10:24.775459Z\"\n",
       "            },\n",
       "            {\n",
       "                \"user\": 2,\n",
       "                \"item\": \"http://nonosoft.ddns.net:8000/api/items/1704/\",\n",
       "                \"suitable_to_train\": true,\n",
       "                \"rating\": 4.5,\n",
       "                \"created_at\": \"2023-09-12T00:10:24.775459Z\"\n",
       "            },\n",
       "            {\n",
       "                \"user\": 2,\n",
       "                \"item\": \"http://nonosoft.ddns.net:8000/api/items/3578/\",\n",
       "                \"suitable_to_train\": true,\n",
       "                \"rating\": 4.0,\n",
       "                \"created_at\": \"2023-09-12T00:10:24.775459Z\"\n",
       "            },\n",
       "            {\n",
       "                \"user\": 2,\n",
       "                \"item\": \"http://nonosoft.ddns.net:8000/api/items/6874/\",\n",
       "                \"suitable_to_train\": true,\n",
       "                \"rating\": 4.0,\n",
       "                \"created_at\": \"2023-09-12T00:10:24.775459Z\"\n",
       "            },\n",
       "            {\n",
       "                \"user\": 2,\n",
       "                \"item\": \"http://nonosoft.ddns.net:8000/api/items/48516/\",\n",
       "                \"suitable_to_train\": true,\n",
       "                \"rating\": 4.0,\n",
       "                \"created_at\": \"2023-09-12T00:10:24.775459Z\"\n",
       "            },\n",
       "            {\n",
       "                \"user\": 2,\n",
       "                \"item\": \"http://nonosoft.ddns.net:8000/api/items/58559/\",\n",
       "                \"suitable_to_train\": true,\n",
       "                \"rating\": 4.5,\n",
       "                \"created_at\": \"2023-09-12T00:10:24.775459Z\"\n",
       "            },\n",
       "            {\n",
       "                \"user\": 2,\n",
       "                \"item\": \"http://nonosoft.ddns.net:8000/api/items/68157/\",\n",
       "                \"suitable_to_train\": true,\n",
       "                \"rating\": 4.5,\n",
       "                \"created_at\": \"2023-09-12T00:10:24.775459Z\"\n",
       "            },\n",
       "            {\n",
       "                \"user\": 2,\n",
       "                \"item\": \"http://nonosoft.ddns.net:8000/api/items/71535/\",\n",
       "                \"suitable_to_train\": true,\n",
       "                \"rating\": 3.0,\n",
       "                \"created_at\": \"2023-09-12T00:10:24.775459Z\"\n",
       "            },\n",
       "            {\n",
       "                \"user\": 2,\n",
       "                \"item\": \"http://nonosoft.ddns.net:8000/api/items/74458/\",\n",
       "                \"suitable_to_train\": true,\n",
       "                \"rating\": 4.0,\n",
       "                \"created_at\": \"2023-09-12T00:10:24.775459Z\"\n",
       "            },\n",
       "            {\n",
       "                \"user\": 2,\n",
       "                \"item\": \"http://nonosoft.ddns.net:8000/api/items/79132/\",\n",
       "                \"suitable_to_train\": true,\n",
       "                \"rating\": 4.0,\n",
       "                \"created_at\": \"2023-09-12T00:10:24.775459Z\"\n",
       "            }\n",
       "        ]\n",
       "    }\n",
       "}"
      ]
     },
     "execution_count": 8,
     "metadata": {},
     "output_type": "execute_result"
    }
   ],
   "source": [
    "api.interactions()"
   ]
  },
  {
   "cell_type": "code",
   "execution_count": null,
   "id": "cf32f026-4391-4854-8895-5a68a20b1db4",
   "metadata": {},
   "outputs": [],
   "source": []
  }
 ],
 "metadata": {
  "kernelspec": {
   "display_name": "Python 3 (ipykernel)",
   "language": "python",
   "name": "python3"
  },
  "language_info": {
   "codemirror_mode": {
    "name": "ipython",
    "version": 3
   },
   "file_extension": ".py",
   "mimetype": "text/x-python",
   "name": "python",
   "nbconvert_exporter": "python",
   "pygments_lexer": "ipython3",
   "version": "3.10.12"
  },
  "widgets": {
   "application/vnd.jupyter.widget-state+json": {
    "state": {},
    "version_major": 2,
    "version_minor": 0
   }
  }
 },
 "nbformat": 4,
 "nbformat_minor": 5
}
