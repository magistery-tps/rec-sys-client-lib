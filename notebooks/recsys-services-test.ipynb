{
 "cells": [
  {
   "cell_type": "code",
   "execution_count": 1,
   "id": "94f881df-4e34-4baa-bb19-bd38a2542192",
   "metadata": {
    "tags": []
   },
   "outputs": [],
   "source": [
    "%load_ext autoreload\n",
    "%autoreload 2"
   ]
  },
  {
   "cell_type": "code",
   "execution_count": 2,
   "id": "4c62570e-c9a7-4f96-82f1-d502c553fed7",
   "metadata": {
    "tags": []
   },
   "outputs": [],
   "source": [
    "REC_SYS_CLIENT_LIB_PATH = '../'\n",
    "CONFIG__PATH            = f'{REC_SYS_CLIENT_LIB_PATH}/config.yml'"
   ]
  },
  {
   "cell_type": "code",
   "execution_count": 3,
   "id": "f8259342-bd48-49ce-a235-d7febaeabe33",
   "metadata": {
    "tags": []
   },
   "outputs": [],
   "source": [
    "import sys\n",
    "sys.path.append(f'{REC_SYS_CLIENT_LIB_PATH}/src')\n",
    "\n",
    "import numpy as np\n",
    "import pandas as pd\n",
    "\n",
    "from recsys.domain_context import DomainContext"
   ]
  },
  {
   "cell_type": "code",
   "execution_count": 4,
   "id": "79655577-629a-4f96-83ae-dd88a019cad5",
   "metadata": {
    "tags": []
   },
   "outputs": [
    {
     "name": "stderr",
     "output_type": "stream",
     "text": [
      "2023-09-11 21:41:57,147 :: INFO :: sentence_transformers.SentenceTransformer :: Load pretrained SentenceTransformer: all-MiniLM-L6-v2\n"
     ]
    },
    {
     "name": "stdout",
     "output_type": "stream",
     "text": [
      "{'temp_path': '/var/tmp/rec-sys-client', 'weights_path': '/home/adrian/development/personal/maestria/thesis-paper/rec-sys-client-lib/weights', 'metrics_path': '/home/adrian/development/personal/maestria/thesis-paper/rec-sys-client-lib/metrics', 'api': {'host': 'http://recsys.ddns.net:8000', 'token': 'e3ff025094fe0ee474501bbeda0a2a44e80230c1'}}\n"
     ]
    },
    {
     "name": "stderr",
     "output_type": "stream",
     "text": [
      "2023-09-11 21:41:57,323 :: INFO :: sentence_transformers.SentenceTransformer :: Use pytorch device: cuda\n",
      "2023-09-11 21:41:57,324 :: INFO :: sentence_transformers.SentenceTransformer :: Load pretrained SentenceTransformer: all-MiniLM-L12-v2\n",
      "2023-09-11 21:41:57,506 :: INFO :: sentence_transformers.SentenceTransformer :: Use pytorch device: cuda\n",
      "2023-09-11 21:41:57,507 :: INFO :: sentence_transformers.SentenceTransformer :: Load pretrained SentenceTransformer: multi-qa-mpnet-base-dot-v1\n",
      "2023-09-11 21:41:58,024 :: INFO :: sentence_transformers.SentenceTransformer :: Use pytorch device: cuda\n",
      "2023-09-11 21:41:58,025 :: INFO :: sentence_transformers.SentenceTransformer :: Load pretrained SentenceTransformer: all-mpnet-base-v2\n",
      "2023-09-11 21:41:58,549 :: INFO :: sentence_transformers.SentenceTransformer :: Use pytorch device: cuda\n"
     ]
    }
   ],
   "source": [
    "ctx = DomainContext(CONFIG__PATH)"
   ]
  },
  {
   "cell_type": "code",
   "execution_count": 5,
   "id": "5b5cd08e-8a0b-422f-959c-fd68a350b423",
   "metadata": {
    "tags": []
   },
   "outputs": [
    {
     "data": {
      "text/plain": [
       "['api',\n",
       " 'bert_item_distance_matrix_job',\n",
       " 'cfg',\n",
       " 'interaction_inference_service',\n",
       " 'interaction_repository',\n",
       " 'interaction_service',\n",
       " 'item_repository',\n",
       " 'item_service',\n",
       " 'nmf_distance_matrix_job',\n",
       " 'rating_matrix_service',\n",
       " 'recommender_service',\n",
       " 'similarity_cell_repository',\n",
       " 'similarity_matrix_repository',\n",
       " 'similarity_matrix_service',\n",
       " 'similarity_service',\n",
       " 'svd_distance_matrix_job',\n",
       " 'temp_path',\n",
       " 'user_repository']"
      ]
     },
     "execution_count": 5,
     "metadata": {},
     "output_type": "execute_result"
    }
   ],
   "source": [
    "ctx.describe"
   ]
  },
  {
   "cell_type": "code",
   "execution_count": 6,
   "id": "72f069c0-c91b-46d9-b507-ee328cc836eb",
   "metadata": {
    "tags": []
   },
   "outputs": [
    {
     "data": {
      "text/plain": [
       "['add_many', 'find']"
      ]
     },
     "execution_count": 6,
     "metadata": {},
     "output_type": "execute_result"
    }
   ],
   "source": [
    "ctx.interaction_repository.describe"
   ]
  },
  {
   "cell_type": "code",
   "execution_count": 7,
   "id": "5eace683-8df4-4bfb-ae35-28dea84cdeb2",
   "metadata": {
    "tags": []
   },
   "outputs": [
    {
     "name": "stdout",
     "output_type": "stream",
     "text": [
      "Help on method find in module recsys.repository.entity_repository:\n",
      "\n",
      "find(query={}, page_size=100000) method of recsys.repository.interaction_repository.InteractionRepository instance\n",
      "    Allows to query entities by ani entity field.\n",
      "    \n",
      "    Args:\n",
      "        query (dict, optional): A dict of field_name: value pairs. Defaults to {}.\n",
      "        page_size (int, optional): Page size. Defaults to 100000.\n",
      "    \n",
      "    Returns:\n",
      "        a dict list: A lost of dict. Each dist represent an entity or model like an interaction, a similar matrix, etc...\n",
      "\n"
     ]
    }
   ],
   "source": [
    "help(ctx.interaction_repository.find)"
   ]
  },
  {
   "cell_type": "code",
   "execution_count": 12,
   "id": "e5e8dc36-1cfd-45ee-a93f-246ec146c1c3",
   "metadata": {
    "tags": []
   },
   "outputs": [
    {
     "data": {
      "text/plain": [
       "['api',\n",
       " 'bert_item_distance_matrix_job',\n",
       " 'cfg',\n",
       " 'interaction_inference_service',\n",
       " 'interaction_repository',\n",
       " 'interaction_service',\n",
       " 'item_repository',\n",
       " 'item_service',\n",
       " 'nmf_distance_matrix_job',\n",
       " 'rating_matrix_service',\n",
       " 'recommender_service',\n",
       " 'similarity_cell_repository',\n",
       " 'similarity_matrix_repository',\n",
       " 'similarity_matrix_service',\n",
       " 'similarity_service',\n",
       " 'svd_distance_matrix_job',\n",
       " 'temp_path',\n",
       " 'user_repository']"
      ]
     },
     "execution_count": 12,
     "metadata": {},
     "output_type": "execute_result"
    }
   ],
   "source": [
    "ctx.describe"
   ]
  },
  {
   "cell_type": "code",
   "execution_count": 13,
   "id": "954c9bbf-733e-4c9a-bbe2-2c35d757346a",
   "metadata": {
    "tags": []
   },
   "outputs": [
    {
     "data": {
      "text/plain": [
       "['add_many',\n",
       " 'filter_by_rating_scale',\n",
       " 'filter_users_by_min_interactions',\n",
       " 'find_all',\n",
       " 'find_by',\n",
       " 'items_by_user',\n",
       " 'n_interactions_by_user',\n",
       " 'repository',\n",
       " 'unrated_user_item']"
      ]
     },
     "execution_count": 13,
     "metadata": {},
     "output_type": "execute_result"
    }
   ],
   "source": [
    "ctx.interaction_service.describe"
   ]
  },
  {
   "cell_type": "code",
   "execution_count": 15,
   "id": "f59c6893-3f27-419c-9d1b-05a3cf5f395a",
   "metadata": {
    "tags": []
   },
   "outputs": [
    {
     "name": "stdout",
     "output_type": "stream",
     "text": [
      "Help on method find_all in module recsys.service.interaction_service:\n",
      "\n",
      "find_all(page_size=5000) method of recsys.service.interaction_service.InteractionService instance\n",
      "    Find all user interactions.\n",
      "    \n",
      "    Args:\n",
      "        page_size (int, optional): Page size used to fetch user interactions. Defaults to 5000.\n",
      "    \n",
      "    Returns:\n",
      "        pd.DataFrame: A pd.DataFrame with all user interactions.\n",
      "\n"
     ]
    }
   ],
   "source": [
    "help(ctx.interaction_service.find_all)"
   ]
  },
  {
   "cell_type": "code",
   "execution_count": 16,
   "id": "3a9d0e85-e87d-497e-a902-828d8fc684e8",
   "metadata": {
    "tags": []
   },
   "outputs": [
    {
     "name": "stderr",
     "output_type": "stream",
     "text": [
      "2023-09-11 21:46:21,989 :: INFO :: httpx :: HTTP Request: GET http://recsys.ddns.net:8000/api/interactions/?offset=0&limit=5000&user=&item= \"HTTP/1.1 200 OK\"\n",
      "2023-09-11 21:46:22,292 :: INFO :: InteractionRepository :: Page 1/8 - Interactions 5000/36598\n",
      "2023-09-11 21:46:22,657 :: INFO :: httpx :: HTTP Request: GET http://recsys.ddns.net:8000/api/interactions/?offset=5000&limit=5000&user=&item= \"HTTP/1.1 200 OK\"\n",
      "2023-09-11 21:46:22,832 :: INFO :: InteractionRepository :: Page 2/8 - Interactions 10000/36598\n",
      "2023-09-11 21:46:23,338 :: INFO :: httpx :: HTTP Request: GET http://recsys.ddns.net:8000/api/interactions/?offset=10000&limit=5000&user=&item= \"HTTP/1.1 200 OK\"\n",
      "2023-09-11 21:46:23,773 :: INFO :: InteractionRepository :: Page 3/8 - Interactions 15000/36598\n",
      "2023-09-11 21:46:24,078 :: INFO :: httpx :: HTTP Request: GET http://recsys.ddns.net:8000/api/interactions/?offset=15000&limit=5000&user=&item= \"HTTP/1.1 200 OK\"\n",
      "2023-09-11 21:46:24,420 :: INFO :: InteractionRepository :: Page 4/8 - Interactions 20000/36598\n",
      "2023-09-11 21:46:24,815 :: INFO :: httpx :: HTTP Request: GET http://recsys.ddns.net:8000/api/interactions/?offset=20000&limit=5000&user=&item= \"HTTP/1.1 200 OK\"\n",
      "2023-09-11 21:46:25,414 :: INFO :: InteractionRepository :: Page 5/8 - Interactions 25000/36598\n",
      "2023-09-11 21:46:25,743 :: INFO :: httpx :: HTTP Request: GET http://recsys.ddns.net:8000/api/interactions/?offset=25000&limit=5000&user=&item= \"HTTP/1.1 200 OK\"\n",
      "2023-09-11 21:46:26,283 :: INFO :: InteractionRepository :: Page 6/8 - Interactions 30000/36598\n",
      "2023-09-11 21:46:26,658 :: INFO :: httpx :: HTTP Request: GET http://recsys.ddns.net:8000/api/interactions/?offset=30000&limit=5000&user=&item= \"HTTP/1.1 200 OK\"\n",
      "2023-09-11 21:46:27,374 :: INFO :: InteractionRepository :: Page 7/8 - Interactions 35000/36598\n",
      "2023-09-11 21:46:27,503 :: INFO :: httpx :: HTTP Request: GET http://recsys.ddns.net:8000/api/interactions/?offset=35000&limit=5000&user=&item= \"HTTP/1.1 200 OK\"\n",
      "2023-09-11 21:46:27,575 :: INFO :: InteractionRepository :: Page 8/8 - Interactions 36598/36598\n",
      "2023-09-11 21:46:27,576 :: INFO :: InteractionRepository :: 36598 Total Interactions \n"
     ]
    }
   ],
   "source": [
    "df_interactions = ctx.interaction_service.find_all()"
   ]
  },
  {
   "cell_type": "code",
   "execution_count": 17,
   "id": "b4df2521-7308-45f1-8de0-e7e691e47a43",
   "metadata": {
    "tags": []
   },
   "outputs": [
    {
     "data": {
      "text/html": [
       "<div>\n",
       "<style scoped>\n",
       "    .dataframe tbody tr th:only-of-type {\n",
       "        vertical-align: middle;\n",
       "    }\n",
       "\n",
       "    .dataframe tbody tr th {\n",
       "        vertical-align: top;\n",
       "    }\n",
       "\n",
       "    .dataframe thead th {\n",
       "        text-align: right;\n",
       "    }\n",
       "</style>\n",
       "<table border=\"1\" class=\"dataframe\">\n",
       "  <thead>\n",
       "    <tr style=\"text-align: right;\">\n",
       "      <th></th>\n",
       "      <th>user_id</th>\n",
       "      <th>item_id</th>\n",
       "      <th>rating</th>\n",
       "      <th>suitable_to_train</th>\n",
       "      <th>created_at</th>\n",
       "    </tr>\n",
       "  </thead>\n",
       "  <tbody>\n",
       "    <tr>\n",
       "      <th>0</th>\n",
       "      <td>2</td>\n",
       "      <td>318</td>\n",
       "      <td>3.0</td>\n",
       "      <td>True</td>\n",
       "      <td>2023-09-12 00:10:24.775459</td>\n",
       "    </tr>\n",
       "    <tr>\n",
       "      <th>1</th>\n",
       "      <td>2</td>\n",
       "      <td>1704</td>\n",
       "      <td>4.5</td>\n",
       "      <td>True</td>\n",
       "      <td>2023-09-12 00:10:24.775459</td>\n",
       "    </tr>\n",
       "    <tr>\n",
       "      <th>2</th>\n",
       "      <td>2</td>\n",
       "      <td>3578</td>\n",
       "      <td>4.0</td>\n",
       "      <td>True</td>\n",
       "      <td>2023-09-12 00:10:24.775459</td>\n",
       "    </tr>\n",
       "    <tr>\n",
       "      <th>3</th>\n",
       "      <td>2</td>\n",
       "      <td>6874</td>\n",
       "      <td>4.0</td>\n",
       "      <td>True</td>\n",
       "      <td>2023-09-12 00:10:24.775459</td>\n",
       "    </tr>\n",
       "    <tr>\n",
       "      <th>4</th>\n",
       "      <td>2</td>\n",
       "      <td>48516</td>\n",
       "      <td>4.0</td>\n",
       "      <td>True</td>\n",
       "      <td>2023-09-12 00:10:24.775459</td>\n",
       "    </tr>\n",
       "    <tr>\n",
       "      <th>...</th>\n",
       "      <td>...</td>\n",
       "      <td>...</td>\n",
       "      <td>...</td>\n",
       "      <td>...</td>\n",
       "      <td>...</td>\n",
       "    </tr>\n",
       "    <tr>\n",
       "      <th>36593</th>\n",
       "      <td>1</td>\n",
       "      <td>527</td>\n",
       "      <td>3.0</td>\n",
       "      <td>True</td>\n",
       "      <td>2023-09-12 00:17:45.651349</td>\n",
       "    </tr>\n",
       "    <tr>\n",
       "      <th>36594</th>\n",
       "      <td>1</td>\n",
       "      <td>4973</td>\n",
       "      <td>0.0</td>\n",
       "      <td>True</td>\n",
       "      <td>2023-09-12 00:17:45.652688</td>\n",
       "    </tr>\n",
       "    <tr>\n",
       "      <th>36595</th>\n",
       "      <td>1</td>\n",
       "      <td>46578</td>\n",
       "      <td>2.0</td>\n",
       "      <td>True</td>\n",
       "      <td>2023-09-12 00:17:45.653537</td>\n",
       "    </tr>\n",
       "    <tr>\n",
       "      <th>36596</th>\n",
       "      <td>1</td>\n",
       "      <td>58559</td>\n",
       "      <td>5.0</td>\n",
       "      <td>True</td>\n",
       "      <td>2023-09-12 00:17:45.654494</td>\n",
       "    </tr>\n",
       "    <tr>\n",
       "      <th>36597</th>\n",
       "      <td>1</td>\n",
       "      <td>106782</td>\n",
       "      <td>5.0</td>\n",
       "      <td>True</td>\n",
       "      <td>2023-09-12 00:17:45.655492</td>\n",
       "    </tr>\n",
       "  </tbody>\n",
       "</table>\n",
       "<p>36598 rows × 5 columns</p>\n",
       "</div>"
      ],
      "text/plain": [
       "       user_id  item_id  rating  suitable_to_train                 created_at\n",
       "0            2      318     3.0               True 2023-09-12 00:10:24.775459\n",
       "1            2     1704     4.5               True 2023-09-12 00:10:24.775459\n",
       "2            2     3578     4.0               True 2023-09-12 00:10:24.775459\n",
       "3            2     6874     4.0               True 2023-09-12 00:10:24.775459\n",
       "4            2    48516     4.0               True 2023-09-12 00:10:24.775459\n",
       "...        ...      ...     ...                ...                        ...\n",
       "36593        1      527     3.0               True 2023-09-12 00:17:45.651349\n",
       "36594        1     4973     0.0               True 2023-09-12 00:17:45.652688\n",
       "36595        1    46578     2.0               True 2023-09-12 00:17:45.653537\n",
       "36596        1    58559     5.0               True 2023-09-12 00:17:45.654494\n",
       "36597        1   106782     5.0               True 2023-09-12 00:17:45.655492\n",
       "\n",
       "[36598 rows x 5 columns]"
      ]
     },
     "execution_count": 17,
     "metadata": {},
     "output_type": "execute_result"
    }
   ],
   "source": [
    "df_interactions"
   ]
  }
 ],
 "metadata": {
  "kernelspec": {
   "display_name": "Python 3 (ipykernel)",
   "language": "python",
   "name": "python3"
  },
  "language_info": {
   "codemirror_mode": {
    "name": "ipython",
    "version": 3
   },
   "file_extension": ".py",
   "mimetype": "text/x-python",
   "name": "python",
   "nbconvert_exporter": "python",
   "pygments_lexer": "ipython3",
   "version": "3.10.12"
  },
  "widgets": {
   "application/vnd.jupyter.widget-state+json": {
    "state": {},
    "version_major": 2,
    "version_minor": 0
   }
  }
 },
 "nbformat": 4,
 "nbformat_minor": 5
}
